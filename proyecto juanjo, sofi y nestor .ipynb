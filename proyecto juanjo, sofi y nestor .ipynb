{
 "cells": [
  {
   "cell_type": "markdown",
   "metadata": {},
   "source": [
    "# PROYECTO SIMULACIÓN MATEMÁTICA"
   ]
  },
  {
   "cell_type": "markdown",
   "metadata": {},
   "source": [
    "\n",
    "Nestor Ivan Ixta Ayala \n",
    "\n",
    "Juan Jorge Jaime Gutierrez\n",
    "\n",
    "Sofía Limón Ochoa "
   ]
  },
  {
   "cell_type": "markdown",
   "metadata": {},
   "source": [
    "#### OBJETIVO GENERAL \n",
    "\n",
    "Se tienen dos tipos de mezclas, con características en específico. El objetivo de llevar a cabo esta problemática es $maximizar$ de acuerdo con el precio en pesos, la cantidad en toneladas tanto del material de $arena$ como de $cal$.\n"
   ]
  },
  {
   "cell_type": "markdown",
   "metadata": {},
   "source": [
    "#### OBJETIVOS ESPECIFICOS\n",
    "\n",
    "* Identificar las componentes que nos otorga el ejercicio (en este caso las mezclas).\n",
    "* Identificar el contenido de las mezclas (materiales).\n",
    "* Registrar porcentajes de cada uno de los materiales y separarlos. \n",
    "* Algo muy importante es identificar con cuanto material se dispone para cada día.\n",
    "* Con el objetivo anterior, identificar el máximo de toneladas por día.\n",
    "* Identificar los costos o montos de cada una de las mezclas.\n",
    "* Con todos estos objetivos se logra la cantidad de toneladas máximas de cada material."
   ]
  },
  {
   "cell_type": "markdown",
   "metadata": {},
   "source": [
    "Problema programación lineal: Mezclas "
   ]
  },
  {
   "cell_type": "markdown",
   "metadata": {},
   "source": [
    "En una construcción hay 2 tipos de mezclas A y B. En la primero hay 15% de arena, 25% de cal y el resto de agua.En la segunda hay 45% de arena y 30% de cal y el resto de agua. Diariamente se dispone 40 toneladas de arena y 45 toneladas de cal. Cada dia se puede producir como máximo  145 toneladas de la mezcla B. El precio de la mezcla A es de 400 pesos por tonelada y de la mezcla B es de 950 pesos por tonelada. Hallar las toneladas de cada tipo para que su beneficio sea el maximo."
   ]
  },
  {
   "cell_type": "markdown",
   "metadata": {},
   "source": [
    "Restricciones:"
   ]
  },
  {
   "cell_type": "markdown",
   "metadata": {},
   "source": [
    "$$\n",
    "A= Mezcla A\n",
    "$$\n",
    "$$\n",
    "B= MezclaB\n",
    "$$"
   ]
  },
  {
   "cell_type": "markdown",
   "metadata": {},
   "source": [
    "$x_A=Arena$\n",
    "\n",
    "$x_B=Cal$"
   ]
  },
  {
   "cell_type": "markdown",
   "metadata": {},
   "source": [
    "Diariamente se dispone de 40 toneladas de $x_A$ y 45 toneladas de $x_B$\n",
    "\n",
    "Y cada dia se puede producir como máximo de la mezcla $B$ 145 toneladas "
   ]
  },
  {
   "cell_type": "markdown",
   "metadata": {},
   "source": [
    "\n",
    "\n",
    "$x_A\\leq40$\n",
    "\n",
    "$x_B\\leq45$\n",
    "\n",
    "$B=0.45x_A+0.3x_B\\leq145$\n",
    "\n"
   ]
  },
  {
   "cell_type": "markdown",
   "metadata": {},
   "source": [
    "$A=0.15x_A+0.25x_B$\n",
    "\n",
    "$B=0.45x_A+0.3x_B$\n",
    "\n",
    "Max: $400A+950B$\n",
    "\n",
    "Max:$400(0.15x_A+0.25x_B)+950(0.45x_A+0.3x_B)$\n",
    "\n",
    "$$\n",
    "487.5x_A+385x_B\n",
    "$$"
   ]
  },
  {
   "cell_type": "code",
   "execution_count": 4,
   "metadata": {},
   "outputs": [],
   "source": [
    "import numpy as np\n",
    "import sympy as sym\n",
    "import matplotlib.pyplot as plt\n",
    "import scipy.optimize as opt"
   ]
  },
  {
   "cell_type": "code",
   "execution_count": 5,
   "metadata": {},
   "outputs": [],
   "source": [
    "c=np.array([-487.5,-385])\n",
    "A=np.array([[1,0],[0,1],[0.45,0.3]])\n",
    "b=np.array([40,45,145])"
   ]
  },
  {
   "cell_type": "code",
   "execution_count": 6,
   "metadata": {},
   "outputs": [
    {
     "data": {
      "text/plain": [
       "     con: array([], dtype=float64)\n",
       "     fun: -36825.0\n",
       " message: 'Optimization terminated successfully.'\n",
       "     nit: 3\n",
       "   slack: array([  0. ,   0. , 113.5])\n",
       "  status: 0\n",
       " success: True\n",
       "       x: array([40., 45.])"
      ]
     },
     "execution_count": 6,
     "metadata": {},
     "output_type": "execute_result"
    }
   ],
   "source": [
    "sol=opt.linprog(c,A,b,method=\"simplex\")\n",
    "sol"
   ]
  },
  {
   "cell_type": "code",
   "execution_count": 7,
   "metadata": {},
   "outputs": [
    {
     "data": {
      "text/plain": [
       "array([40., 45.])"
      ]
     },
     "execution_count": 7,
     "metadata": {},
     "output_type": "execute_result"
    }
   ],
   "source": [
    "x=sol.x\n",
    "x"
   ]
  },
  {
   "cell_type": "markdown",
   "metadata": {},
   "source": [
    "Para que el beneficio sea el Máximo, se necesitan 40 toneladas de arena y 45 toneladas de cal."
   ]
  },
  {
   "cell_type": "markdown",
   "metadata": {},
   "source": [
    "### Conclusión ###\n",
    "\n",
    "    Además de los conocimientos practicados, de manera matematica, codificación y sobre la creación de un problema que este relacionado a nuestra carrera, lo que más aprendimos o en lo que mas nos esforzamos fue en el uso de los cambios del archivo; usando GitHub y GitKraken, en el repositorio de nuestro proyecto. \n",
    "\n",
    "        Este proyecto tambien nos demostro que nuestro conocimiento en el lenguaje python ha mejorado asi como el uso del Markdown, en este primer parcial de Simulación matematica, conocimos nuevas librerias; para que sirven y como usarlas en problemas matematicos aplicados."
   ]
  },
  {
   "cell_type": "markdown",
   "metadata": {},
   "source": [
    "### Referencias ###\n",
    "\n",
    "Arellano C. (2020). Simulación matematica [Grabaciones de clase]. Disponible en: https://iteso.instructure.com/courses/9338/external_tools/237"
   ]
  },
  {
   "cell_type": "code",
   "execution_count": null,
   "metadata": {},
   "outputs": [],
   "source": []
  }
 ],
 "metadata": {
  "kernelspec": {
   "display_name": "Python 3",
   "language": "python",
   "name": "python3"
  },
  "language_info": {
   "codemirror_mode": {
    "name": "ipython",
    "version": 3
   },
   "file_extension": ".py",
   "mimetype": "text/x-python",
   "name": "python",
   "nbconvert_exporter": "python",
   "pygments_lexer": "ipython3",
   "version": "3.8.3"
  }
 },
 "nbformat": 4,
 "nbformat_minor": 4
}
