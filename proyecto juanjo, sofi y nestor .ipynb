{
 "cells": [
  {
   "cell_type": "markdown",
   "metadata": {},
   "source": [
    "Proyecto Simulación Matemática\n",
    "\n",
    "Nestor Ivan Ixta Ayala \n",
    "\n",
    "Juan Jorge Jaime Gutierrez\n",
    "\n",
    "Sofía Limón Ochoa "
   ]
  },
  {
   "cell_type": "markdown",
   "metadata": {},
   "source": [
    "Problema programación lineal: Mezclas "
   ]
  },
  {
   "cell_type": "markdown",
   "metadata": {},
   "source": [
    "En una construcción hay 2 tipos de mezclas A y B. En la primero hay 15% de arena, 25% de cal y el resto de agua.En la segunda hay 45% de arena y 30% de cal y el resto de agua. Diariamente se dispone 40 toneladas de arena y 45 toneladas de cal. Cada dia se puede producir como máximo  145 toneladas de la mezcla B. El precio de la mezcla A es de 400 pesos por tonelada y de la mezcla B es de 950 pesos por tonelada. Hallar las toneladas de cada tipo para que su beneficio sea el maximo."
   ]
  },
  {
   "cell_type": "markdown",
   "metadata": {},
   "source": [
    "Restricciones:"
   ]
  },
  {
   "cell_type": "markdown",
   "metadata": {},
   "source": [
    "$x_A=ARENA$\n",
    "\n",
    "$x_B=CAL$"
   ]
  },
  {
   "cell_type": "markdown",
   "metadata": {},
   "source": [
    "\n",
    "\n",
    "$x_A\\leq40$\n",
    "\n",
    "$x_B\\leq45$\n",
    "\n",
    "$B=0.45x_A+0.3x_B\\leq145$\n",
    "\n"
   ]
  },
  {
   "cell_type": "markdown",
   "metadata": {},
   "source": [
    "$A=0.15x_A+0.25x_B$\n",
    "\n",
    "$B=0.45x_A+0.3x_B$\n",
    "\n",
    "Max: $400A+950B$\n",
    "\n",
    "Max:$400(0.15x_A+0.25x_B)+950(0.45x_A+0.3x_B)$\n",
    "\n",
    "$$\n",
    "487.5x_A+385x_B\n",
    "$$"
   ]
  },
  {
   "cell_type": "code",
   "execution_count": 2,
   "metadata": {},
   "outputs": [],
   "source": [
    "import numpy as np\n",
    "import sympy as sym\n",
    "import matplotlib.pyplot as plt\n",
    "import scipy.optimize as opt"
   ]
  },
  {
   "cell_type": "code",
   "execution_count": 8,
   "metadata": {},
   "outputs": [],
   "source": [
    "c=np.array([-487.5,-385])\n",
    "A=np.array([[1,0],[0,1],[0.45,0.3]])\n",
    "b=np.array([40,45,145])"
   ]
  },
  {
   "cell_type": "code",
   "execution_count": 9,
   "metadata": {},
   "outputs": [
    {
     "data": {
      "text/plain": [
       "     con: array([], dtype=float64)\n",
       "     fun: -36825.0\n",
       " message: 'Optimization terminated successfully.'\n",
       "     nit: 3\n",
       "   slack: array([  0. ,   0. , 113.5])\n",
       "  status: 0\n",
       " success: True\n",
       "       x: array([40., 45.])"
      ]
     },
     "execution_count": 9,
     "metadata": {},
     "output_type": "execute_result"
    }
   ],
   "source": [
    "sol=opt.linprog(c,A,b,method=\"simplex\")\n",
    "sol"
   ]
  },
  {
   "cell_type": "code",
   "execution_count": 10,
   "metadata": {},
   "outputs": [
    {
     "data": {
      "text/plain": [
       "array([40., 45.])"
      ]
     },
     "execution_count": 10,
     "metadata": {},
     "output_type": "execute_result"
    }
   ],
   "source": [
    "x=sol.x\n",
    "x"
   ]
  },
  {
   "cell_type": "markdown",
   "metadata": {},
   "source": [
    "De arena se necesita 40 toneladas y de cal 45 toneladas. "
   ]
  }
 ],
 "metadata": {
  "kernelspec": {
   "display_name": "Python 3",
   "language": "python",
   "name": "python3"
  },
  "language_info": {
   "codemirror_mode": {
    "name": "ipython",
    "version": 3
   },
   "file_extension": ".py",
   "mimetype": "text/x-python",
   "name": "python",
   "nbconvert_exporter": "python",
   "pygments_lexer": "ipython3",
   "version": "3.7.6"
  }
 },
 "nbformat": 4,
 "nbformat_minor": 4
}
